{
 "cells": [
  {
   "cell_type": "markdown",
   "metadata": {},
   "source": [
    "# Head Estimation Model"
   ]
  },
  {
   "cell_type": "markdown",
   "metadata": {},
   "source": [
    "## 1. Load and Process Keypoints JSON"
   ]
  },
  {
   "cell_type": "code",
   "execution_count": 2,
   "metadata": {},
   "outputs": [
    {
     "name": "stdout",
     "output_type": "stream",
     "text": [
      "[([0.9944954128440368, 0.9706422018348624, 1.0, 0.9669724770642202, 1.0, 0.9688073394495413, 0.9944954128440368, 0.9779816513761468, 0.9926605504587156, 0.9926605504587156, 0.9651376146788991, 0.9908256880733946, 0.3779816513761468, 0.3779816513761468, 0.4, 0.4036697247706422, 0.42201834862385323, 0.43119266055045874, 0.42385321100917434, 0.42568807339449544, 0.45504587155963305, 0.46055045871559636, 0.47522935779816516, 0.4917431192660551], [0.9889908256880734, 0.9944954128440368, 0.9871559633027523, 0.0, 0.9798165137614679, 0.3577981651376147, 0.3559633027522936, 0.3541284403669725, 0.0, 0.3577981651376147]), ([0.4715447154471545, 0.4959349593495935, 0.42276422764227645, 0.4349593495934959, 0.36585365853658536, 0.3821138211382114, 0.4796747967479675, 0.516260162601626, 0.3983739837398374, 0.5040650406504065, 0.4146341463414634, 0.5040650406504065, 0.6910569105691057, 0.6910569105691057, 0.7154471544715447, 0.7642276422764228, 0.7357723577235772, 0.7926829268292683, 0.8170731707317073, 0.8170731707317073, 0.8373983739837398, 0.926829268292683, 0.926829268292683, 1.0], [0.4146341463414634, 0.4146341463414634, 0.0, 0.4349593495934959, 0.0, 0.6910569105691057, 0.6829268292682927, 0.0, 0.6747967479674797, 0.0]), ([0.41, 0.4, 0.43, 0.42, 0.4633333333333333, 0.47, 0.4166666666666667, 0.4033333333333333, 0.47, 0.4633333333333333, 0.42333333333333334, 0.4066666666666667, 0.8033333333333333, 0.8066666666666666, 0.85, 0.8466666666666667, 0.8633333333333333, 0.87, 0.8966666666666666, 0.8966666666666666, 0.9366666666666666, 0.94, 1.0, 0.9766666666666667], [0.42333333333333334, 0.0, 0.42, 0.0, 0.4033333333333333, 0.7666666666666667, 0.0, 0.7633333333333333, 0.0, 0.77]), ([0.9886363636363636, 0.9409090909090909, 0.9795454545454545, 0.9181818181818182, 0.9113636363636364, 0.875, 1.0, 0.9613636363636363, 0.9590909090909091, 0.9159090909090909, 0.9840909090909091, 0.9318181818181818, 0.4409090909090909, 0.45227272727272727, 0.49318181818181817, 0.4909090909090909, 0.5159090909090909, 0.5068181818181818, 0.55, 0.5568181818181818, 0.615909090909091, 0.5977272727272728, 0.740909090909091, 0.7363636363636363], [0.9454545454545454, 0.95, 0.9363636363636364, 0.9681818181818181, 0.0, 0.4159090909090909, 0.4068181818181818, 0.4068181818181818, 0.3977272727272727, 0.0]), ([0.7945823927765236, 0.7065462753950339, 0.8397291196388262, 0.7629796839729119, 0.9232505643340858, 0.8848758465011287, 0.7945823927765236, 0.7426636568848759, 0.9006772009029346, 0.8126410835214447, 1.0, 0.8803611738148984, 0.5304740406320542, 0.5191873589164786, 0.5869074492099323, 0.5936794582392777, 0.6072234762979684, 0.6139954853273137, 0.6704288939051919, 0.6794582392776524, 0.6433408577878104, 0.6433408577878104, 0.7584650112866818, 0.7674943566591422], [0.7945823927765236, 0.0, 0.7855530474040632, 0.0, 0.7404063205417607, 0.4853273137697517, 0.0, 0.4785553047404063, 0.0, 0.48081264108352145])]\n",
      "Number of extracted poses: 40055\n"
     ]
    }
   ],
   "source": [
    "import json\n",
    "\n",
    "# Load person_keypoints_train2017.json and extract poses which have all of their body keypoints\n",
    "'''\n",
    "\"keypoints\": [\n",
    "                        \"nose\",\n",
    "                        \"left_eye\",\n",
    "                        \"right_eye\",\n",
    "                        \"left_ear\",\n",
    "                        \"right_ear\",\n",
    "                        \"left_shoulder\",\n",
    "                        \"right_shoulder\",\n",
    "                        \"left_elbow\",\n",
    "                        \"right_elbow\",\n",
    "                        \"left_wrist\",\n",
    "                        \"right_wrist\",\n",
    "                        \"left_hip\",\n",
    "                        \"right_hip\",\n",
    "                        \"left_knee\",\n",
    "                        \"right_knee\",\n",
    "                        \"left_ankle\",\n",
    "                        \"right_ankle\"\n",
    "                    ],\n",
    "'''\n",
    "\n",
    "def extract_poses(file_path):\n",
    "    with open(file_path, 'r') as f:\n",
    "        data = json.load(f)\n",
    "\n",
    "    poses_list = []\n",
    "\n",
    "    for annotation in data['annotations']:\n",
    "        visibility = annotation['keypoints'][2::3]\n",
    "\n",
    "        if 0 not in visibility[5:]:\n",
    "            keypoint_x = annotation['keypoints'][0::3]\n",
    "            keypoint_y = annotation['keypoints'][1::3]\n",
    "\n",
    "            max_x = max(keypoint_x)\n",
    "            min_x = min(keypoint_x)\n",
    "            max_y = max(keypoint_y)\n",
    "            min_y = min(keypoint_y)\n",
    "\n",
    "            height = max_y - min_y\n",
    "            width = max_x - min_x\n",
    "\n",
    "            if height > width:\n",
    "                keypoint_x = [(x - min_x) / height for x in keypoint_x]\n",
    "                keypoint_y = [(y - min_y) / height for y in keypoint_y]\n",
    "            else:\n",
    "                keypoint_x = [(x - min_x) / width for x in keypoint_x]\n",
    "                keypoint_y = [(y - min_y) / width for y in keypoint_y]\n",
    "\n",
    "            poses_list.append((keypoint_x[5:] + keypoint_y[5:], \n",
    "                                   keypoint_x[:5] + keypoint_y[:5]))\n",
    "\n",
    "    return poses_list\n",
    "\n",
    "# File path to the JSON file\n",
    "file_path = 'person_keypoints_train2017.json'\n",
    "\n",
    "# Extract keypoints\n",
    "extracted_poses = extract_poses(file_path)\n",
    "\n",
    "# Print the result\n",
    "result_len = len(extracted_poses)\n",
    "print(extracted_poses[:5])\n",
    "print(f\"Number of extracted poses: {result_len}\")\n",
    "\n",
    "# Save the result\n",
    "with open(\"train.json\", \"w\") as train:\n",
    "    json.dump(extracted_poses[:int(result_len * 0.8)], train)\n",
    "\n",
    "with open(\"test.json\", \"w\") as test:\n",
    "    json.dump(extracted_poses[int(result_len * 0.8):], test)"
   ]
  },
  {
   "cell_type": "markdown",
   "metadata": {},
   "source": [
    "## 2. Load Libraries"
   ]
  },
  {
   "cell_type": "code",
   "execution_count": 17,
   "metadata": {},
   "outputs": [
    {
     "name": "stderr",
     "output_type": "stream",
     "text": [
      "Matplotlib is building the font cache; this may take a moment.\n"
     ]
    },
    {
     "name": "stdout",
     "output_type": "stream",
     "text": [
      "MPS Support: True\n",
      "MPS Availability: True\n"
     ]
    }
   ],
   "source": [
    "import torch\n",
    "import torch.nn as nn\n",
    "import torch.optim as optim\n",
    "import matplotlib.pyplot as plt\n",
    "\n",
    "from tqdm import tqdm\n",
    "from torch.utils.data import DataLoader\n",
    "from torch.optim.lr_scheduler import StepLR\n",
    "from torch.utils.data import Dataset\n",
    "\n",
    "print(f\"MPS Support: {torch.backends.mps.is_built()}\")\n",
    "print(f\"MPS Availability: {torch.backends.mps.is_available()}\")"
   ]
  },
  {
   "cell_type": "code",
   "execution_count": 18,
   "metadata": {},
   "outputs": [
    {
     "name": "stdout",
     "output_type": "stream",
     "text": [
      "Device: mps\n"
     ]
    }
   ],
   "source": [
    "device = None\n",
    "\n",
    "if torch.backends.mps.is_available():\n",
    "    device = torch.device(\"mps\")\n",
    "elif torch.cuda.is_available():\n",
    "    device = torch.device(\"cuda\")\n",
    "else:\n",
    "    device = torch.device(\"cpu\")\n",
    "\n",
    "print(f'Device: {device}')"
   ]
  },
  {
   "cell_type": "markdown",
   "metadata": {},
   "source": [
    "## 3. Model and Dataloader Definition"
   ]
  },
  {
   "cell_type": "code",
   "execution_count": 32,
   "metadata": {},
   "outputs": [],
   "source": [
    "class TrainDataset(Dataset):\n",
    "    def __init__(self, data_dir):\n",
    "        self.data_dir = data_dir\n",
    "        train_path = data_dir + \"/train.json\"\n",
    "\n",
    "        with open(train_path, 'r') as f:\n",
    "            data = json.load(f)\n",
    "            data_len = len(data)\n",
    "            self.data = data[:int(data_len * 0.9)]\n",
    "\n",
    "    def __len__(self):\n",
    "        return len(self.data)\n",
    "\n",
    "    def __getitem__(self, index):\n",
    "        return torch.tensor(self.data[index][0]), torch.tensor(self.data[index][1])\n",
    "\n",
    "\n",
    "class ValDataset(Dataset):\n",
    "    def __init__(self, data_dir):\n",
    "        self.data_dir = data_dir\n",
    "        train_path = data_dir + \"/train.json\"\n",
    "\n",
    "        with open(train_path, 'r') as f:\n",
    "            data = json.load(f)\n",
    "            data_len = len(data)\n",
    "            self.data = data[int(data_len * 0.9):]\n",
    "\n",
    "    def __len__(self):\n",
    "        return len(self.data)\n",
    "\n",
    "    def __getitem__(self, index):\n",
    "        return torch.tensor(self.data[index][0]), torch.tensor(self.data[index][1])\n",
    "    \n",
    "    \n",
    "class TestDataset(Dataset):\n",
    "    def __init__(self, data_dir):\n",
    "        self.data_dir = data_dir\n",
    "        test_path = data_dir + \"/test.json\"\n",
    "\n",
    "        with open(test_path, 'r') as f:\n",
    "            self.data = json.load(f)\n",
    "\n",
    "    def __len__(self):\n",
    "        return len(self.data)\n",
    "\n",
    "    def __getitem__(self, index):\n",
    "        return torch.tensor(self.data[index][0]), torch.tensor(self.data[index][1])"
   ]
  },
  {
   "cell_type": "code",
   "execution_count": 41,
   "metadata": {},
   "outputs": [],
   "source": [
    "# Define the model\n",
    "class HeadEstimator(nn.Module):\n",
    "    def __init__(self):\n",
    "        super(HeadEstimator, self).__init__()\n",
    "        self.fc1 = nn.Linear(24, 64)  # 12 MPII/COCO keypoints * 2 (x, y)\n",
    "        self.fc2 = nn.Linear(64, 128)\n",
    "        self.fc3 = nn.Linear(128, 128)\n",
    "        self.fc4 = nn.Linear(128, 10)  # 5 COCO head keypoints * 2 (x, y)\n",
    "        self.dropout = nn.Dropout(0.2)\n",
    "\n",
    "    def forward(self, x):\n",
    "        x = torch.relu(self.fc1(x))\n",
    "        x = self.dropout(x)\n",
    "        x = torch.relu(self.fc2(x))\n",
    "        x = self.dropout(x)\n",
    "        x = torch.relu(self.fc3(x))\n",
    "        x = self.fc4(x)\n",
    "\n",
    "        return x"
   ]
  },
  {
   "cell_type": "code",
   "execution_count": 42,
   "metadata": {},
   "outputs": [
    {
     "name": "stdout",
     "output_type": "stream",
     "text": [
      "28839\n",
      "3205\n",
      "8011\n"
     ]
    }
   ],
   "source": [
    "train_dataset = TrainDataset(data_dir='.')\n",
    "val_dataset = ValDataset(data_dir='.')\n",
    "test_dataset = TestDataset(data_dir='.')\n",
    "\n",
    "print(len(train_dataset))\n",
    "print(len(val_dataset))\n",
    "print(len(test_dataset))"
   ]
  },
  {
   "cell_type": "code",
   "execution_count": 43,
   "metadata": {},
   "outputs": [],
   "source": [
    "def train_model(trainloader, model, criterion, optimizer, device):\n",
    "    model.train()\n",
    "    total_loss = 0\n",
    "\n",
    "    for batch, (inputs, targets) in tqdm(enumerate(trainloader), total = len(trainloader)):\n",
    "\n",
    "        inputs = inputs.to(device)\n",
    "        targets = targets.to(device)\n",
    "        criterion = criterion.to(device)\n",
    "\n",
    "        optimizer.zero_grad()\n",
    "        preds = model(inputs)\n",
    "        loss = criterion(preds, targets)\n",
    "\n",
    "        loss.backward()\n",
    "        optimizer.step()\n",
    "        \n",
    "        total_loss += loss.cpu().item()\n",
    "\n",
    "    return total_loss/(batch+1)"
   ]
  },
  {
   "cell_type": "code",
   "execution_count": 44,
   "metadata": {},
   "outputs": [],
   "source": [
    "def val_model(valloader, model, criterion, device):\n",
    "    model.eval()\n",
    "    total_loss = 0\n",
    "\n",
    "    with torch.no_grad():\n",
    "        for batch, (inputs, targets) in tqdm(enumerate(valloader), total = len(valloader)):\n",
    "\n",
    "            inputs = inputs.to(device)\n",
    "            targets = targets.to(device)\n",
    "            criterion = criterion.to(device)\n",
    "\n",
    "            preds = model(inputs)\n",
    "            loss = criterion(preds, targets)\n",
    "            \n",
    "            total_loss += loss.cpu().item()\n",
    "\n",
    "    return total_loss/(batch+1)"
   ]
  },
  {
   "cell_type": "markdown",
   "metadata": {},
   "source": [
    "## 4. Training Model"
   ]
  },
  {
   "cell_type": "code",
   "execution_count": 45,
   "metadata": {},
   "outputs": [
    {
     "name": "stdout",
     "output_type": "stream",
     "text": [
      "HeadEstimator(\n",
      "  (fc1): Linear(in_features=24, out_features=64, bias=True)\n",
      "  (fc2): Linear(in_features=64, out_features=128, bias=True)\n",
      "  (fc3): Linear(in_features=128, out_features=128, bias=True)\n",
      "  (fc4): Linear(in_features=128, out_features=10, bias=True)\n",
      "  (dropout): Dropout(p=0.2, inplace=False)\n",
      ")\n"
     ]
    }
   ],
   "source": [
    "batch_size = 256\n",
    "learning_rate = 1e-4\n",
    "epochs = 10\n",
    "\n",
    "trainLoader = DataLoader(train_dataset, batch_size = batch_size, shuffle=True)\n",
    "valLoader = DataLoader(val_dataset, batch_size = batch_size, shuffle=True)\n",
    "\n",
    "model = HeadEstimator()\n",
    "model = model.to(device)\n",
    "\n",
    "criterion = nn.MSELoss()\n",
    "optimizer = optim.Adam(model.parameters(), lr=learning_rate)\n",
    "\n",
    "history = {'train_loss':[], 'val_loss':[]}\n",
    "\n",
    "print(model)"
   ]
  },
  {
   "cell_type": "code",
   "execution_count": 46,
   "metadata": {},
   "outputs": [
    {
     "name": "stdout",
     "output_type": "stream",
     "text": [
      "Training...\n"
     ]
    },
    {
     "name": "stderr",
     "output_type": "stream",
     "text": [
      "100%|██████████| 113/113 [00:04<00:00, 27.80it/s]\n",
      "100%|██████████| 13/13 [00:00<00:00, 97.92it/s]\n"
     ]
    },
    {
     "name": "stdout",
     "output_type": "stream",
     "text": [
      "Epoch 1/10, Train Loss: 0.1402, Val Loss: 0.0938\n",
      "Saving checkpoint...\n"
     ]
    },
    {
     "name": "stderr",
     "output_type": "stream",
     "text": [
      "100%|██████████| 113/113 [00:02<00:00, 50.07it/s]\n",
      "100%|██████████| 13/13 [00:00<00:00, 180.33it/s]\n"
     ]
    },
    {
     "name": "stdout",
     "output_type": "stream",
     "text": [
      "Epoch 2/10, Train Loss: 0.0801, Val Loss: 0.0822\n"
     ]
    },
    {
     "name": "stderr",
     "output_type": "stream",
     "text": [
      "100%|██████████| 113/113 [00:02<00:00, 51.18it/s]\n",
      "100%|██████████| 13/13 [00:00<00:00, 180.73it/s]\n"
     ]
    },
    {
     "name": "stdout",
     "output_type": "stream",
     "text": [
      "Epoch 3/10, Train Loss: 0.0731, Val Loss: 0.0780\n",
      "Saving checkpoint...\n"
     ]
    },
    {
     "name": "stderr",
     "output_type": "stream",
     "text": [
      "100%|██████████| 113/113 [00:02<00:00, 52.75it/s]\n",
      "100%|██████████| 13/13 [00:00<00:00, 179.56it/s]\n"
     ]
    },
    {
     "name": "stdout",
     "output_type": "stream",
     "text": [
      "Epoch 4/10, Train Loss: 0.0704, Val Loss: 0.0763\n"
     ]
    },
    {
     "name": "stderr",
     "output_type": "stream",
     "text": [
      "100%|██████████| 113/113 [00:02<00:00, 52.23it/s]\n",
      "100%|██████████| 13/13 [00:00<00:00, 169.57it/s]\n"
     ]
    },
    {
     "name": "stdout",
     "output_type": "stream",
     "text": [
      "Epoch 5/10, Train Loss: 0.0689, Val Loss: 0.0751\n",
      "Saving checkpoint...\n"
     ]
    },
    {
     "name": "stderr",
     "output_type": "stream",
     "text": [
      "100%|██████████| 113/113 [00:02<00:00, 50.68it/s]\n",
      "100%|██████████| 13/13 [00:00<00:00, 176.59it/s]\n"
     ]
    },
    {
     "name": "stdout",
     "output_type": "stream",
     "text": [
      "Epoch 6/10, Train Loss: 0.0678, Val Loss: 0.0743\n"
     ]
    },
    {
     "name": "stderr",
     "output_type": "stream",
     "text": [
      "100%|██████████| 113/113 [00:02<00:00, 53.14it/s]\n",
      "100%|██████████| 13/13 [00:00<00:00, 166.71it/s]\n"
     ]
    },
    {
     "name": "stdout",
     "output_type": "stream",
     "text": [
      "Epoch 7/10, Train Loss: 0.0669, Val Loss: 0.0732\n",
      "Saving checkpoint...\n"
     ]
    },
    {
     "name": "stderr",
     "output_type": "stream",
     "text": [
      "100%|██████████| 113/113 [00:02<00:00, 53.39it/s]\n",
      "100%|██████████| 13/13 [00:00<00:00, 180.42it/s]\n"
     ]
    },
    {
     "name": "stdout",
     "output_type": "stream",
     "text": [
      "Epoch 8/10, Train Loss: 0.0661, Val Loss: 0.0727\n"
     ]
    },
    {
     "name": "stderr",
     "output_type": "stream",
     "text": [
      "100%|██████████| 113/113 [00:02<00:00, 53.38it/s]\n",
      "100%|██████████| 13/13 [00:00<00:00, 180.61it/s]\n"
     ]
    },
    {
     "name": "stdout",
     "output_type": "stream",
     "text": [
      "Epoch 9/10, Train Loss: 0.0652, Val Loss: 0.0716\n",
      "Saving checkpoint...\n"
     ]
    },
    {
     "name": "stderr",
     "output_type": "stream",
     "text": [
      "100%|██████████| 113/113 [00:02<00:00, 50.49it/s]\n",
      "100%|██████████| 13/13 [00:00<00:00, 173.65it/s]"
     ]
    },
    {
     "name": "stdout",
     "output_type": "stream",
     "text": [
      "Epoch 10/10, Train Loss: 0.0641, Val Loss: 0.0705\n",
      "Finished Training\n"
     ]
    },
    {
     "name": "stderr",
     "output_type": "stream",
     "text": [
      "\n"
     ]
    }
   ],
   "source": [
    "print(\"Training...\")\n",
    "\n",
    "for epoch in range(epochs):\n",
    "    train_loss = train_model(trainLoader, model, criterion, optimizer, device)\n",
    "    val_loss = val_model(valLoader, model, criterion, device)\n",
    "\n",
    "    print(f\"Epoch {epoch+1}/{epochs}, Train Loss: {train_loss:.4f}, Val Loss: {val_loss:.4f}\")\n",
    "\n",
    "    history['train_loss'].append(train_loss)\n",
    "    history['val_loss'].append(val_loss)\n",
    "\n",
    "    if epoch % 2 == 0:\n",
    "        print(\"Saving checkpoint...\")\n",
    "        torch.save(model.state_dict(), f'./model.pth')\n",
    "\n",
    "print('Finished Training')"
   ]
  },
  {
   "cell_type": "code",
   "execution_count": 47,
   "metadata": {},
   "outputs": [
    {
     "data": {
      "text/plain": [
       "<function matplotlib.pyplot.show(close=None, block=None)>"
      ]
     },
     "execution_count": 47,
     "metadata": {},
     "output_type": "execute_result"
    },
    {
     "data": {
      "image/png": "[encoded data removed]",
      "text/plain": [
       "<Figure size 640x480 with 1 Axes>"
      ]
     },
     "metadata": {},
     "output_type": "display_data"
    }
   ],
   "source": [
    "plt.plot(range(epochs), history['train_loss'], label='Train Loss', color='red')\n",
    "plt.plot(range(epochs), history['val_loss'], label='Val Loss', color='blue')\n",
    "\n",
    "plt.title('Loss history')\n",
    "plt.xlabel('epoch')\n",
    "plt.ylabel('loss')\n",
    "plt.legend()\n",
    "\n",
    "plt.show"
   ]
  },
  {
   "cell_type": "markdown",
   "metadata": {},
   "source": [
    "## 5. Test Model"
   ]
  },
  {
   "cell_type": "code",
   "execution_count": 48,
   "metadata": {},
   "outputs": [],
   "source": [
    "def test_model(testloader, model, criterion, device):\n",
    "    model.eval()\n",
    "    total_loss = 0\n",
    "\n",
    "    with torch.no_grad():\n",
    "        for batch, (inputs, targets) in tqdm(enumerate(testloader), total = len(testloader)):\n",
    "\n",
    "            inputs = inputs.to(device)\n",
    "            targets = targets.to(device)\n",
    "\n",
    "            preds = model(inputs)\n",
    "            loss = criterion(preds, targets)\n",
    "            \n",
    "            total_loss += loss.cpu().item()\n",
    "\n",
    "    return total_loss/(batch+1)"
   ]
  },
  {
   "cell_type": "code",
   "execution_count": 49,
   "metadata": {},
   "outputs": [
    {
     "name": "stdout",
     "output_type": "stream",
     "text": [
      "Testing...\n"
     ]
    },
    {
     "name": "stderr",
     "output_type": "stream",
     "text": [
      "100%|██████████| 32/32 [00:00<00:00, 46.37it/s] "
     ]
    },
    {
     "name": "stdout",
     "output_type": "stream",
     "text": [
      "Test Loss: 0.0712\n"
     ]
    },
    {
     "name": "stderr",
     "output_type": "stream",
     "text": [
      "\n"
     ]
    }
   ],
   "source": [
    "testLoader = DataLoader(test_dataset, batch_size = batch_size, shuffle=False)\n",
    "\n",
    "print(\"Testing...\")\n",
    "test_loss = test_model(testLoader, model, criterion, device)\n",
    "\n",
    "print(f\"Test Loss: {test_loss:.4f}\")"
   ]
  },
  {
   "cell_type": "markdown",
   "metadata": {},
   "source": [
    "## 6. Inference"
   ]
  },
  {
   "cell_type": "code",
   "execution_count": null,
   "metadata": {},
   "outputs": [],
   "source": [
    "def inference(model, input, device):\n",
    "    model.eval()\n",
    "    input = input.to(device)\n",
    "\n",
    "    with torch.no_grad():\n",
    "        pred = model(input)\n",
    "        \n",
    "    return pred"
   ]
  }
 ],
 "metadata": {
  "kernelspec": {
   "display_name": ".venv",
   "language": "python",
   "name": "python3"
  },
  "language_info": {
   "codemirror_mode": {
    "name": "ipython",
    "version": 3
   },
   "file_extension": ".py",
   "mimetype": "text/x-python",
   "name": "python",
   "nbconvert_exporter": "python",
   "pygments_lexer": "ipython3",
   "version": "3.9.13"
  }
 },
 "nbformat": 4,
 "nbformat_minor": 2
}
